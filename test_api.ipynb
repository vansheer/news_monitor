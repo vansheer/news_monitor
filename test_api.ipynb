{
 "cells": [
  {
   "cell_type": "code",
   "execution_count": 2,
   "id": "d94fb315-f8ef-4315-b6f6-5afb54c5fee4",
   "metadata": {},
   "outputs": [],
   "source": [
    "import pandas as pd\n",
    "from newsapi import NewsApiClient\n",
    "import datetime"
   ]
  },
  {
   "cell_type": "code",
   "execution_count": 3,
   "id": "f4651983-41b9-447d-837e-0754686d4d53",
   "metadata": {},
   "outputs": [],
   "source": [
    "newsapi = NewsApiClient(api_key='761ac61282ca4aefb3fb755ed9c55a89')"
   ]
  },
  {
   "cell_type": "code",
   "execution_count": 4,
   "id": "d36602a6-ef4a-4056-a157-dbdcecbeb87e",
   "metadata": {},
   "outputs": [],
   "source": [
    "data = newsapi.get_everything(q='imab')"
   ]
  },
  {
   "cell_type": "code",
   "execution_count": 14,
   "id": "c493f2ac-ffba-4af7-83d5-35a36e8354cf",
   "metadata": {},
   "outputs": [
    {
     "data": {
      "text/plain": [
       "dict"
      ]
     },
     "execution_count": 14,
     "metadata": {},
     "output_type": "execute_result"
    }
   ],
   "source": [
    "type(data)"
   ]
  },
  {
   "cell_type": "code",
   "execution_count": 13,
   "id": "bdf94443-f327-41a5-a2ef-69edc5a22199",
   "metadata": {
    "collapsed": true,
    "jupyter": {
     "outputs_hidden": true
    },
    "tags": []
   },
   "outputs": [
    {
     "name": "stdout",
     "output_type": "stream",
     "text": [
      "Stockmarket.com\n",
      "标题：Best Health Care Stocks To Buy This Week? 4 To Know\n",
      "作者：Jonathan Phillip\n",
      "正文：Investors can look to these health care stocks for long-term growth.\n",
      "原文链接：https://stockmarket.com/featured/best-health-care-stocks-to-buy-this-week-4-to-know-2021-05-22\n",
      "\n",
      "\n",
      "Yahoo Entertainment\n",
      "标题：I-Mab Appoints Ruyi He and Rong Shao to Board of Directors\n",
      "作者：PR Newswire\n",
      "正文：I-Mab (the \"Company\") (Nasdaq: IMAB), a clinical stage biopharmaceutical company committed to the discovery, development and commercialization of novel...\n",
      "原文链接：https://finance.yahoo.com/news/mab-appoints-ruyi-rong-shao-120000483.html\n",
      "\n",
      "\n",
      "Yahoo Entertainment\n",
      "标题：I-Mab Presents Phase 1 Data on Highly Differentiated CD73 Antibody Uliledlimab at ASCO 2021\n",
      "作者：PR Newswire\n",
      "正文：I-Mab (the \"Company\") (Nasdaq: IMAB), a clinical stage biopharmaceutical company committed to the discovery, development and commercialization of novel...\n",
      "原文链接：https://finance.yahoo.com/news/mab-presents-phase-1-data-220000625.html\n",
      "\n",
      "\n",
      "Yahoo Entertainment\n",
      "标题：Best Health Care Stocks To Buy This Week? 4 To Know\n",
      "作者：Jonathan Phillip\n",
      "正文：Investors can look to these health care stocks for long-term growth.\n",
      "原文链接：https://finance.yahoo.com/news/best-health-care-stocks-buy-185924658.html\n",
      "\n",
      "\n",
      "Seeking Alpha\n",
      "标题：I-Mab in talks seeking a billion-dollar deal for cancer therapy: Bloomberg\n",
      "作者：Dulan Lokuwithana\n",
      "正文：I-Mab <<IMAB>> has started discussions with advisors and global pharmaceutical companies seeing a collaboration agreement for its experimental cancer...\n",
      "原文链接：https://seekingalpha.com/news/3706151-i-mab-in-talks-seeking-a-billion-dollar-deal-for-cancer-therapy-bloomberg\n",
      "\n",
      "\n"
     ]
    }
   ],
   "source": [
    "for news in data['articles'][:5]:\n",
    "    print(news['source']['name'])\n",
    "    print(f\"标题：{news['title']}\")\n",
    "    print(f\"作者：{news['author']}\")\n",
    "    print(f\"正文：{news['description']}\")\n",
    "    print(f\"原文链接：{news['url']}\")\n",
    "    print('\\n')"
   ]
  },
  {
   "cell_type": "code",
   "execution_count": 18,
   "id": "10effc77-d308-4db8-80bf-f14ef537ecbd",
   "metadata": {},
   "outputs": [],
   "source": [
    "df = pd.DataFrame(data['articles'])"
   ]
  },
  {
   "cell_type": "code",
   "execution_count": 19,
   "id": "7b121ca9-8e7b-44eb-a199-fa34837046c3",
   "metadata": {},
   "outputs": [],
   "source": [
    "for col in df.select_dtypes(include='object'):\n",
    "    df[col] = df[col].str.strip()"
   ]
  },
  {
   "cell_type": "code",
   "execution_count": 20,
   "id": "254384e0-50d8-4554-bbfa-ed24067493b9",
   "metadata": {},
   "outputs": [
    {
     "data": {
      "text/plain": [
       "(12, 8)"
      ]
     },
     "execution_count": 20,
     "metadata": {},
     "output_type": "execute_result"
    }
   ],
   "source": [
    "df.shape"
   ]
  },
  {
   "cell_type": "code",
   "execution_count": 22,
   "id": "96bdd733-1863-4287-8da4-fb7f5dacceee",
   "metadata": {},
   "outputs": [],
   "source": [
    "df.drop_duplicates(subset='title', inplace=True)"
   ]
  },
  {
   "cell_type": "code",
   "execution_count": null,
   "id": "09377424-4262-48af-9170-5ddfc0238446",
   "metadata": {},
   "outputs": [],
   "source": []
  }
 ],
 "metadata": {
  "kernelspec": {
   "display_name": "Python 3",
   "language": "python",
   "name": "python3"
  },
  "language_info": {
   "codemirror_mode": {
    "name": "ipython",
    "version": 3
   },
   "file_extension": ".py",
   "mimetype": "text/x-python",
   "name": "python",
   "nbconvert_exporter": "python",
   "pygments_lexer": "ipython3",
   "version": "3.8.5"
  }
 },
 "nbformat": 4,
 "nbformat_minor": 5
}
